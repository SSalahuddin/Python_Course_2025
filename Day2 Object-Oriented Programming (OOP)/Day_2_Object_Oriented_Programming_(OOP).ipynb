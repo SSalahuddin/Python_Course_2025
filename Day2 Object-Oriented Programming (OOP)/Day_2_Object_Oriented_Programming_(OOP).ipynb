{
  "nbformat": 4,
  "nbformat_minor": 0,
  "metadata": {
    "colab": {
      "provenance": [],
      "collapsed_sections": [
        "NyNB3jNsg62M",
        "24AF4nILhIIY",
        "MRjDwlqvhdHl"
      ]
    },
    "kernelspec": {
      "name": "python3",
      "display_name": "Python 3"
    },
    "language_info": {
      "name": "python"
    }
  },
  "cells": [
    {
      "cell_type": "markdown",
      "source": [
        "# **2.1 Classes and Objects**"
      ],
      "metadata": {
        "id": "Klc67ZMqeHl3"
      }
    },
    {
      "cell_type": "markdown",
      "source": [
        "***Creating Class and Objects:***\n",
        "---\n",
        "\n",
        "*https://docs.python.org/3/tutorial/classes.html*\n",
        "\n"
      ],
      "metadata": {
        "id": "T-aetrY_gEsh"
      }
    },
    {
      "cell_type": "code",
      "source": [
        "class Person:\n",
        "    def __init__(self, name, age):\n",
        "        self.name = name\n",
        "        self.age = age\n",
        "\n",
        "    def greet(self):\n",
        "        print(f'Hello, my name is {self.name} and I am {self.age} years old.')\n",
        "\n",
        "# Creating an object\n",
        "alice = Person('Hamid Khan', 25)\n",
        "alice.greet()\n"
      ],
      "metadata": {
        "colab": {
          "base_uri": "https://localhost:8080/"
        },
        "id": "Abr_pOMWgSiU",
        "outputId": "954912a4-f20c-4850-be72-b4360b14cdba"
      },
      "execution_count": 1,
      "outputs": [
        {
          "output_type": "stream",
          "name": "stdout",
          "text": [
            "Hello, my name is Hamid Khan and I am 25 years old.\n"
          ]
        }
      ]
    },
    {
      "cell_type": "markdown",
      "source": [
        "# **2.2 Inheritance and Polymorphism**\n"
      ],
      "metadata": {
        "id": "NyNB3jNsg62M"
      }
    },
    {
      "cell_type": "markdown",
      "source": [
        "***Inheritance:***\n",
        "---\n",
        "\n",
        "*https://www.w3schools.com/python/python_inheritance.asp*\n",
        "\n",
        "*https://realpython.com/inheritance-composition-python/*"
      ],
      "metadata": {
        "id": "lSLfcuDf69Zq"
      }
    },
    {
      "cell_type": "code",
      "source": [
        "# Parent class\n",
        "class Animal:\n",
        "    def __init__(self, name):\n",
        "        self.name = name\n",
        "\n",
        "    def eat(self):\n",
        "        print(f\"{self.name} is eating.\")\n",
        "\n",
        "# Child class\n",
        "class Dog(Animal):\n",
        "    def __init__(self, name, breed):\n",
        "        super().__init__(name)  # Inherit properties from the parent class\n",
        "        self.breed = breed\n",
        "\n",
        "    def bark(self):\n",
        "        print(f\"{self.name} is barking. It's a {self.breed}!\")\n",
        "\n",
        "# Example usage\n",
        "dog = Dog(\"Buddy\", \"Golden Retriever\")\n",
        "dog.eat()  # Method from the parent class\n",
        "dog.bark()  # Method from the child class\n",
        "\n"
      ],
      "metadata": {
        "id": "4SfcPZSEhFLB",
        "colab": {
          "base_uri": "https://localhost:8080/"
        },
        "outputId": "6a167431-40e3-4222-88aa-94342f699f60"
      },
      "execution_count": 3,
      "outputs": [
        {
          "output_type": "stream",
          "name": "stdout",
          "text": [
            "Buddy is eating.\n",
            "Buddy is barking. It's a Golden Retriever!\n"
          ]
        }
      ]
    },
    {
      "cell_type": "markdown",
      "source": [
        "***Polymorphism:***\n",
        "---\n",
        "\n",
        "*https://www.w3schools.com/python/python_polymorphism.asp*\n",
        "\n",
        "*https://medium.com/data-bistrot/polymorphism-in-python-object-oriented-programming-c652d8c3b792*"
      ],
      "metadata": {
        "id": "IdmnmDjA7H4Q"
      }
    },
    {
      "cell_type": "code",
      "source": [
        "# Parent class\n",
        "class Shape:\n",
        "    def area(self):\n",
        "        pass  # Define a generic method\n",
        "\n",
        "# Child class 1\n",
        "class Circle(Shape):\n",
        "    def __init__(self, radius):\n",
        "        self.radius = radius\n",
        "\n",
        "    def area(self):\n",
        "        return 3.14 * self.radius ** 2\n",
        "\n",
        "# Child class 2\n",
        "class Rectangle(Shape):\n",
        "    def __init__(self, length, width):\n",
        "        self.length = length\n",
        "        self.width = width\n",
        "\n",
        "    def area(self):\n",
        "        return self.length * self.width\n",
        "\n",
        "# Demonstrating polymorphism\n",
        "shapes = [Circle(5), Rectangle(4, 6)]\n",
        "\n",
        "for shape in shapes:\n",
        "    print(f\"The area of the shape is: {shape.area()}\")\n"
      ],
      "metadata": {
        "colab": {
          "base_uri": "https://localhost:8080/"
        },
        "id": "V55uBiLQ7RrK",
        "outputId": "23775163-7d58-442d-cf9b-934f91c6a615"
      },
      "execution_count": 4,
      "outputs": [
        {
          "output_type": "stream",
          "name": "stdout",
          "text": [
            "The area of the shape is: 78.5\n",
            "The area of the shape is: 24\n"
          ]
        }
      ]
    },
    {
      "cell_type": "markdown",
      "source": [
        "***Combined Inheritance and Polymorphism:***\n",
        "---"
      ],
      "metadata": {
        "id": "pNDLaFad7dnR"
      }
    },
    {
      "cell_type": "code",
      "source": [
        "class Employee(Person):\n",
        "    def __init__(self, name, age, job_title):\n",
        "        super().__init__(name, age)\n",
        "        self.job_title = job_title\n",
        "\n",
        "    def greet(self):\n",
        "        print(f'Hello, I am {self.name}, a {self.job_title}.')\n",
        "\n",
        "# Demonstrating polymorphism\n",
        "person = Person('Ali Ahmad', 30)\n",
        "employee = Employee('Sajjad Awan', 28, 'Engineer')\n",
        "\n",
        "for individual in (person, employee):\n",
        "    individual.greet()"
      ],
      "metadata": {
        "colab": {
          "base_uri": "https://localhost:8080/"
        },
        "id": "5OiTNbAp6yA8",
        "outputId": "eb787356-9b7b-4847-81a9-91bfa7b3cf95"
      },
      "execution_count": 5,
      "outputs": [
        {
          "output_type": "stream",
          "name": "stdout",
          "text": [
            "Hello, my name is Ali Ahmad and I am 30 years old.\n",
            "Hello, I am Sajjad Awan, a Engineer.\n"
          ]
        }
      ]
    },
    {
      "cell_type": "markdown",
      "source": [
        "# **2.3 Special Methods**\n"
      ],
      "metadata": {
        "id": "24AF4nILhIIY"
      }
    },
    {
      "cell_type": "markdown",
      "source": [
        "***Operator Overloading:***\n",
        "---\n",
        "\n",
        "*https://www.geeksforgeeks.org/operator-overloading-in-python/*\n",
        "\n",
        "*https://realpython.com/operator-function-overloading/*"
      ],
      "metadata": {
        "id": "ZUQPksF28W96"
      }
    },
    {
      "cell_type": "code",
      "source": [
        "class Vector:\n",
        "    def __init__(self, x, y):\n",
        "        self.x = x\n",
        "        self.y = y\n",
        "\n",
        "    def __add__(self, other):\n",
        "        return Vector(self.x + other.x, self.y + other.y)\n",
        "\n",
        "    def __str__(self):\n",
        "        return f'({self.x}, {self.y})'\n",
        "\n",
        "v1 = Vector(1, 2)\n",
        "v2 = Vector(3, 4)\n",
        "print(v1 + v2)  # Output: (4, 6)\n"
      ],
      "metadata": {
        "colab": {
          "base_uri": "https://localhost:8080/"
        },
        "id": "3wrAoQi8hPZW",
        "outputId": "294ee96d-c2dd-4ca4-86d5-454f30e16b04"
      },
      "execution_count": 6,
      "outputs": [
        {
          "output_type": "stream",
          "name": "stdout",
          "text": [
            "(4, 6)\n"
          ]
        }
      ]
    },
    {
      "cell_type": "markdown",
      "source": [
        "# **2.4 Applications of OOP in AI**\n"
      ],
      "metadata": {
        "id": "DfpPk2nx9Bcf"
      }
    },
    {
      "cell_type": "code",
      "source": [
        "class AIModel:\n",
        "    def __init__(self, name, algorithm):\n",
        "        self.name = name\n",
        "        self.algorithm = algorithm\n",
        "\n",
        "    def train(self):\n",
        "        print(f'Training {self.name} using {self.algorithm} algorithm.')\n",
        "\n",
        "# Example\n",
        "model = AIModel('Predictor', 'Linear Regression')\n",
        "model.train()\n"
      ],
      "metadata": {
        "colab": {
          "base_uri": "https://localhost:8080/"
        },
        "id": "qQxtg-nG9GtN",
        "outputId": "2f52c0f5-5fa7-4d04-f8fb-da69cc8ab89c"
      },
      "execution_count": 7,
      "outputs": [
        {
          "output_type": "stream",
          "name": "stdout",
          "text": [
            "Training Predictor using Linear Regression algorithm.\n"
          ]
        }
      ]
    },
    {
      "cell_type": "markdown",
      "source": [
        "# **2.5 Activity 1**"
      ],
      "metadata": {
        "id": "KAqjr_5GhR6e"
      }
    },
    {
      "cell_type": "markdown",
      "source": [
        "# Activity: OOP - Creating and Managing a Library System\n",
        "# Objective: Build a simple library system using classes that allows users to:\n",
        "* **Add books to the library.**\n",
        "* **Borrow books.**\n",
        "* **Return books.**\n",
        "\n",
        "# Steps:\n",
        "\n",
        "# 1. Define a Library class with methods to:\n",
        "*   **Add a book.**\n",
        "*   **Borrow a book.**\n",
        "*   **Return a book.**\n",
        "\n",
        "# 2. Use the system in a simulation where users interact with the library."
      ],
      "metadata": {
        "id": "MRjDwlqvhdHl"
      }
    },
    {
      "cell_type": "code",
      "source": [
        "class Library:\n",
        "    def __init__(self, name):\n",
        "        self.name = name\n",
        "        self.books = []\n",
        "\n",
        "    def add_book(self, book):\n",
        "        self.books.append(book)\n",
        "        print(f'Book \"{book}\" has been added to the library.')\n",
        "\n",
        "    def borrow_book(self, book):\n",
        "        if book in self.books:\n",
        "            self.books.remove(book)\n",
        "            print(f'You have borrowed \"{book}\".')\n",
        "        else:\n",
        "            print(f'Sorry, \"{book}\" is not available.')\n",
        "\n",
        "    def return_book(self, book):\n",
        "        self.books.append(book)\n",
        "        print(f'Thank you for returning \"{book}\".')\n",
        "\n",
        "# Simulation\n",
        "my_library = Library(\"City Library\")\n",
        "\n",
        "# Adding books\n",
        "my_library.add_book(\"Python Programming\")\n",
        "my_library.add_book(\"Artificial Intelligence\")\n",
        "\n",
        "# Borrowing a book\n",
        "my_library.borrow_book(\"Python Programming\")\n",
        "\n",
        "# Trying to borrow a book that's not available\n",
        "my_library.borrow_book(\"Data Science\")\n",
        "\n",
        "# Returning a book\n",
        "my_library.return_book(\"Python Programming\")\n"
      ],
      "metadata": {
        "colab": {
          "base_uri": "https://localhost:8080/"
        },
        "id": "ZVA3QHkoiqdo",
        "outputId": "d314a893-ac60-43c0-c414-667de2dc51e5"
      },
      "execution_count": 8,
      "outputs": [
        {
          "output_type": "stream",
          "name": "stdout",
          "text": [
            "Book \"Python Programming\" has been added to the library.\n",
            "Book \"Artificial Intelligence\" has been added to the library.\n",
            "You have borrowed \"Python Programming\".\n",
            "Sorry, \"Data Science\" is not available.\n",
            "Thank you for returning \"Python Programming\".\n"
          ]
        }
      ]
    }
  ]
}